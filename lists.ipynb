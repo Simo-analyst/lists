{
 "cells": [
  {
   "cell_type": "code",
   "execution_count": 2,
   "id": "f9973312",
   "metadata": {},
   "outputs": [
    {
     "data": {
      "text/plain": [
       "['simon', 'john', 'maxwell', 'Kylian']"
      ]
     },
     "execution_count": 2,
     "metadata": {},
     "output_type": "execute_result"
    }
   ],
   "source": [
    "# creating a list\n",
    "list=['simon','john','maxwell','Kylian']\n",
    "list"
   ]
  },
  {
   "cell_type": "code",
   "execution_count": 4,
   "id": "09c89ed2",
   "metadata": {},
   "outputs": [
    {
     "data": {
      "text/plain": [
       "['simon', 'john', 'maxwell', 'Kylian']"
      ]
     },
     "execution_count": 4,
     "metadata": {},
     "output_type": "execute_result"
    }
   ],
   "source": [
    "# A list can contain a mix of different types of variables:\n",
    "list1=['spherical','moon',1,3,True]\n",
    "list"
   ]
  },
  {
   "cell_type": "code",
   "execution_count": 9,
   "id": "6a7c1163",
   "metadata": {},
   "outputs": [
    {
     "name": "stdout",
     "output_type": "stream",
     "text": [
      "simon\n",
      "Kylian\n",
      "maxwell\n"
     ]
    }
   ],
   "source": [
    "# indexing in lists \n",
    "# indexing in lists begin from 0 to N-1\n",
    "# helps us acess individual elements of a list\n",
    "print(list[0])\n",
    "print(list[3])\n",
    "print(list[2])"
   ]
  },
  {
   "cell_type": "code",
   "execution_count": 11,
   "id": "381aaf95",
   "metadata": {},
   "outputs": [
    {
     "name": "stdout",
     "output_type": "stream",
     "text": [
      "Kylian\n",
      "maxwell\n"
     ]
    }
   ],
   "source": [
    "# negative indexing allow us get elements from the tail\n",
    "print(list[-1])\n",
    "print(list[-2])"
   ]
  },
  {
   "cell_type": "code",
   "execution_count": 13,
   "id": "0846ce51",
   "metadata": {},
   "outputs": [
    {
     "name": "stdout",
     "output_type": "stream",
     "text": [
      "['simon', 'john']\n",
      "['simon', 'john']\n"
     ]
    }
   ],
   "source": [
    "# list slicing \n",
    "# helps us get a given number of elements\n",
    "print(list[0:2])\n",
    "# the above slicing gives us the elements at index 0 and 1 excluding element at index 2 \n",
    "# it is similar to this\n",
    "print(list[:2])"
   ]
  },
  {
   "cell_type": "code",
   "execution_count": 14,
   "id": "c5c97c35",
   "metadata": {},
   "outputs": [
    {
     "name": "stdout",
     "output_type": "stream",
     "text": [
      "['simon', 'john', 'maxwell', 'Kylian']\n"
     ]
    }
   ],
   "source": [
    "print(list[0:])\n",
    "# gives us the entire list"
   ]
  },
  {
   "cell_type": "code",
   "execution_count": 15,
   "id": "e96cbe6d",
   "metadata": {},
   "outputs": [
    {
     "name": "stdout",
     "output_type": "stream",
     "text": [
      "['john', 'maxwell']\n"
     ]
    }
   ],
   "source": [
    "print(list[1:-1])\n",
    "# gives us an exemption of first and last element"
   ]
  },
  {
   "cell_type": "code",
   "execution_count": 16,
   "id": "f1d091cd",
   "metadata": {},
   "outputs": [
    {
     "name": "stdout",
     "output_type": "stream",
     "text": [
      "['john', 'maxwell', 'Kylian']\n"
     ]
    }
   ],
   "source": [
    "print(list[-3:])\n",
    "# gives us the last three elements of our list"
   ]
  },
  {
   "cell_type": "code",
   "execution_count": 18,
   "id": "f9e43eaa",
   "metadata": {},
   "outputs": [
    {
     "data": {
      "text/plain": [
       "['You', 'john', 'maxwell', 'Kylian']"
      ]
     },
     "execution_count": 18,
     "metadata": {},
     "output_type": "execute_result"
    }
   ],
   "source": [
    "# Lists are \"mutable\", meaning they can be modified \"in place\".\n",
    "list[0]='You'\n",
    "list"
   ]
  },
  {
   "cell_type": "code",
   "execution_count": 20,
   "id": "b22671b4",
   "metadata": {},
   "outputs": [
    {
     "data": {
      "text/plain": [
       "4"
      ]
     },
     "execution_count": 20,
     "metadata": {},
     "output_type": "execute_result"
    }
   ],
   "source": [
    "# list fuctions\n",
    "# len() gives us the number of elements in the list\n",
    "len(list)"
   ]
  },
  {
   "cell_type": "code",
   "execution_count": 22,
   "id": "23eb3d66",
   "metadata": {},
   "outputs": [
    {
     "data": {
      "text/plain": [
       "['Kylian', 'You', 'john', 'maxwell']"
      ]
     },
     "execution_count": 22,
     "metadata": {},
     "output_type": "execute_result"
    }
   ],
   "source": [
    "# sort() rearanges the elements in the list either innascending or descending order\n",
    "list.sort()\n",
    "list"
   ]
  },
  {
   "cell_type": "code",
   "execution_count": 25,
   "id": "54e770c9",
   "metadata": {},
   "outputs": [
    {
     "data": {
      "text/plain": [
       "242"
      ]
     },
     "execution_count": 25,
     "metadata": {},
     "output_type": "execute_result"
    }
   ],
   "source": [
    "# finding sum of element in the list\n",
    "list_num=[34,87,45,76]\n",
    "sum(list_num)"
   ]
  },
  {
   "cell_type": "code",
   "execution_count": 29,
   "id": "0322fbab",
   "metadata": {},
   "outputs": [
    {
     "data": {
      "text/plain": [
       "[34, 87, 45, 76, 50]"
      ]
     },
     "execution_count": 29,
     "metadata": {},
     "output_type": "execute_result"
    }
   ],
   "source": [
    "# list methods\n",
    "# append () adds an element at the tail of the list\n",
    "list_num.append(50)\n",
    "list_num"
   ]
  },
  {
   "cell_type": "code",
   "execution_count": 31,
   "id": "ec3ae136",
   "metadata": {},
   "outputs": [
    {
     "data": {
      "text/plain": [
       "[10, 10, 34, 87, 45, 76, 50]"
      ]
     },
     "execution_count": 31,
     "metadata": {},
     "output_type": "execute_result"
    }
   ],
   "source": [
    "# insert adds an element at the specified position\n",
    "list_num.insert(0,10)\n",
    "list_num"
   ]
  },
  {
   "cell_type": "code",
   "execution_count": 33,
   "id": "ace95f8c",
   "metadata": {},
   "outputs": [
    {
     "data": {
      "text/plain": [
       "[10, 10, 34, 87, 45]"
      ]
     },
     "execution_count": 33,
     "metadata": {},
     "output_type": "execute_result"
    }
   ],
   "source": [
    "# pop() removes the last elemment in a list\n",
    "list_num.pop()\n",
    "list_num"
   ]
  },
  {
   "cell_type": "code",
   "execution_count": 36,
   "id": "46dd41fc",
   "metadata": {},
   "outputs": [
    {
     "data": {
      "text/plain": [
       "[34, 87, 45]"
      ]
     },
     "execution_count": 36,
     "metadata": {},
     "output_type": "execute_result"
    }
   ],
   "source": [
    "# remove() removes an element in a specified position\n",
    "list_num.remove(10)\n",
    "list_num"
   ]
  },
  {
   "cell_type": "code",
   "execution_count": 37,
   "id": "1d0a3138",
   "metadata": {},
   "outputs": [
    {
     "data": {
      "text/plain": [
       "['Kylian', 'You', 'john', 'maxwell']"
      ]
     },
     "execution_count": 37,
     "metadata": {},
     "output_type": "execute_result"
    }
   ],
   "source": [
    "# searching in a list\n",
    "list"
   ]
  },
  {
   "cell_type": "code",
   "execution_count": 38,
   "id": "a70f73be",
   "metadata": {},
   "outputs": [
    {
     "data": {
      "text/plain": [
       "True"
      ]
     },
     "execution_count": 38,
     "metadata": {},
     "output_type": "execute_result"
    }
   ],
   "source": [
    "# gives us a bool either true or false\n",
    "'john' in list"
   ]
  },
  {
   "cell_type": "code",
   "execution_count": 39,
   "id": "a5921b34",
   "metadata": {},
   "outputs": [
    {
     "name": "stdout",
     "output_type": "stream",
     "text": [
      "Kylian\n",
      "You\n",
      "john\n",
      "maxwell\n"
     ]
    }
   ],
   "source": [
    "# looping through a list\n",
    "for name in list:\n",
    "    print(name)"
   ]
  },
  {
   "cell_type": "code",
   "execution_count": 42,
   "id": "097d6bd9",
   "metadata": {},
   "outputs": [],
   "source": [
    "# other way to create a list\n",
    " pets=list((\"dog\",\"cat\",\"rabbit\"))\n",
    " print(pets)"
   ]
  }
 ],
 "metadata": {
  "kernelspec": {
   "display_name": "Python 3 (ipykernel)",
   "language": "python",
   "name": "python3"
  },
  "language_info": {
   "codemirror_mode": {
    "name": "ipython",
    "version": 3
   },
   "file_extension": ".py",
   "mimetype": "text/x-python",
   "name": "python",
   "nbconvert_exporter": "python",
   "pygments_lexer": "ipython3",
   "version": "3.11.4"
  }
 },
 "nbformat": 4,
 "nbformat_minor": 5
}
